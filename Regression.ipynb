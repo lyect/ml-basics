{
 "cells": [
  {
   "cell_type": "code",
   "execution_count": null,
   "id": "857c310f",
   "metadata": {},
   "outputs": [],
   "source": [
    "import numpy as np\n",
    "import pandas as pd\n",
    "import seaborn as sns\n",
    "from sklearn.metrics import mean_absolute_error, mean_squared_error\n",
    "from sklearn.preprocessing import scale\n",
    "from sklearn.linear_model import LinearRegression\n",
    "from sklearn.model_selection import train_test_split\n",
    "from tensorflow.keras.models import Sequential\n",
    "from tensorflow.keras.layers import Dense"
   ]
  },
  {
   "cell_type": "code",
   "execution_count": null,
   "id": "db49bf77",
   "metadata": {},
   "outputs": [],
   "source": [
    "df = pd.read_csv(\"Fish.csv\")"
   ]
  },
  {
   "cell_type": "code",
   "execution_count": null,
   "id": "fbcd218b",
   "metadata": {},
   "outputs": [],
   "source": [
    "df.head()"
   ]
  },
  {
   "cell_type": "code",
   "execution_count": null,
   "id": "758255b6",
   "metadata": {},
   "outputs": [],
   "source": [
    "df_dummies = pd.get_dummies(df)\n",
    "X = df_dummies.drop(\"Weight\", axis=1)\n",
    "y = df_dummies[\"Weight\"]"
   ]
  },
  {
   "cell_type": "code",
   "execution_count": null,
   "id": "a1bd2cb6",
   "metadata": {},
   "outputs": [],
   "source": [
    "X_scaled = X.copy()\n",
    "X_scaled[\"Length1\"] = scale(X_scaled[\"Length1\"])\n",
    "X_scaled[\"Length2\"] = scale(X_scaled[\"Length2\"])\n",
    "X_scaled[\"Length3\"] = scale(X_scaled[\"Length3\"])\n",
    "X_scaled[\"Height\"]  = scale(X_scaled[\"Height\"])\n",
    "X_scaled[\"Width\"]   = scale(X_scaled[\"Width\"])"
   ]
  },
  {
   "cell_type": "code",
   "execution_count": null,
   "id": "2d7e960f",
   "metadata": {},
   "outputs": [],
   "source": [
    "X_scaled.shape"
   ]
  },
  {
   "cell_type": "code",
   "execution_count": null,
   "id": "20bd66c8",
   "metadata": {},
   "outputs": [],
   "source": [
    "X_train, X_test, y_train, y_test = train_test_split(X_scaled, y, random_state=1, train_size=0.7)"
   ]
  },
  {
   "cell_type": "code",
   "execution_count": null,
   "id": "d6601ec3",
   "metadata": {},
   "outputs": [],
   "source": [
    "lr_clf = LinearRegression()\n",
    "lr_clf.fit(X_train, y_train)\n",
    "lr_pred = lr_clf.predict(X_test)\n",
    "\n",
    "lr_mae = mean_absolute_error(y_test, lr_pred)\n",
    "lr_mse = mean_squared_error(y_test, lr_pred)\n",
    "\n",
    "print(f\"MAE: {lr_mae}, MSE: {lr_mse}, mean: {y.mean()}\")"
   ]
  },
  {
   "cell_type": "code",
   "execution_count": null,
   "id": "3d898752",
   "metadata": {},
   "outputs": [],
   "source": [
    "nn_clf = Sequential()\n",
    "nn_clf.add(Dense(24, input_shape=(X_train.shape[1],), activation=\"relu\"))\n",
    "nn_clf.add(Dense(48, activation=\"relu\"))\n",
    "nn_clf.add(Dense(12, activation=\"relu\"))\n",
    "nn_clf.add(Dense(1,  kernel_initializer=\"normal\"))\n",
    "\n",
    "nn_clf.compile(loss='mean_squared_error', optimizer='adam')"
   ]
  },
  {
   "cell_type": "code",
   "execution_count": null,
   "id": "27e26faa",
   "metadata": {},
   "outputs": [],
   "source": [
    "h = nn_clf.fit(X_train, y_train, epochs=10000, verbose=0)\n",
    "nn_pred = nn_clf.predict(X_test, verbose=0)\n",
    "\n",
    "nn_mae = mean_absolute_error(y_test, nn_pred)\n",
    "nn_mse = mean_squared_error(y_test, nn_pred)\n",
    "\n",
    "print(f\"MAE: {nn_mae}, MSE: {nn_mse}, mean: {y.mean()}\")"
   ]
  },
  {
   "cell_type": "code",
   "execution_count": null,
   "id": "7151a6c0",
   "metadata": {},
   "outputs": [],
   "source": [
    "sns.lineplot(x=np.arange(len(h.history[\"loss\"])), y=h.history[\"loss\"])\n",
    "pass"
   ]
  },
  {
   "cell_type": "code",
   "execution_count": null,
   "id": "4d35da69",
   "metadata": {},
   "outputs": [],
   "source": []
  }
 ],
 "metadata": {
  "kernelspec": {
   "display_name": "Python 3 (ipykernel)",
   "language": "python",
   "name": "python3"
  },
  "language_info": {
   "codemirror_mode": {
    "name": "ipython",
    "version": 3
   },
   "file_extension": ".py",
   "mimetype": "text/x-python",
   "name": "python",
   "nbconvert_exporter": "python",
   "pygments_lexer": "ipython3",
   "version": "3.9.13"
  }
 },
 "nbformat": 4,
 "nbformat_minor": 5
}
