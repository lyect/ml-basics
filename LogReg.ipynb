{
 "cells": [
  {
   "cell_type": "code",
   "execution_count": null,
   "id": "bd59a492",
   "metadata": {},
   "outputs": [],
   "source": [
    "import numpy as np\n",
    "import pandas as pd\n",
    "import matplotlib.pyplot as plt\n",
    "import seaborn as sns\n",
    "import urllib.request\n",
    "from sklearn.model_selection import train_test_split\n",
    "from sklearn.preprocessing import StandardScaler\n",
    "from sklearn.metrics import f1_score\n",
    "from sklearn.metrics import confusion_matrix\n",
    "from sklearn.decomposition import PCA\n",
    "from sklearn.linear_model import LogisticRegression\n",
    "from sklearn.model_selection import GridSearchCV\n",
    "%matplotlib inline"
   ]
  },
  {
   "cell_type": "code",
   "execution_count": null,
   "id": "63df4b13",
   "metadata": {},
   "outputs": [],
   "source": [
    "DATA_FILE_PATH = \"radiopulsars.csv\"\n",
    "\n",
    "urllib.request.urlretrieve(\n",
    "    \"https://raw.githubusercontent.com/alexandrehsd/Predicting-Pulsar-Stars/master/pulsar_stars.csv\",\n",
    "    DATA_FILE_PATH)\n",
    "pass"
   ]
  },
  {
   "cell_type": "code",
   "execution_count": null,
   "id": "724d9587",
   "metadata": {},
   "outputs": [],
   "source": [
    "df = pd.read_csv(DATA_FILE_PATH)\n",
    "df.columns = [\"IP Mean\",     \"IP Sd\",     \"IP Kurtosis\",     \"IP Skewness\", \n",
    "              \"DM-SNR Mean\", \"DM-SNR Sd\", \"DM-SNR Kurtosis\", \"DM-SNR Skewness\",\n",
    "              \"target_class\"]"
   ]
  },
  {
   "cell_type": "code",
   "execution_count": null,
   "id": "ddb43fb5",
   "metadata": {},
   "outputs": [],
   "source": [
    "df.head()"
   ]
  },
  {
   "cell_type": "code",
   "execution_count": null,
   "id": "70fa1d2b",
   "metadata": {},
   "outputs": [],
   "source": [
    "df[\"target_class\"].value_counts()"
   ]
  },
  {
   "cell_type": "code",
   "execution_count": null,
   "id": "adf682fb",
   "metadata": {},
   "outputs": [],
   "source": [
    "X = df.drop([\"target_class\"], axis=1)\n",
    "y = df[\"target_class\"]"
   ]
  },
  {
   "cell_type": "code",
   "execution_count": null,
   "id": "00963888",
   "metadata": {},
   "outputs": [],
   "source": [
    "scaler = StandardScaler()\n",
    "X_scaled = pd.DataFrame(scaler.fit_transform(X), columns=X.columns)"
   ]
  },
  {
   "cell_type": "code",
   "execution_count": null,
   "id": "fe683b23",
   "metadata": {},
   "outputs": [],
   "source": [
    "pca = PCA(n_components=2)\n",
    "pca_repr = pca.fit_transform(X_scaled)\n",
    "plt.scatter(\n",
    "    pca_repr[:, 0],\n",
    "    pca_repr[:, 1],\n",
    "    c=df[\"target_class\"].map({0: \"blue\", 1: \"orange\"}),\n",
    "    alpha=0.5,\n",
    ");"
   ]
  },
  {
   "cell_type": "code",
   "execution_count": null,
   "id": "483815a2",
   "metadata": {},
   "outputs": [],
   "source": [
    "clf = LogisticRegression()\n",
    "\n",
    "params = {\n",
    "    \"tol\":    [1e-6, 1e-5, 1e-4, 1e-3, 1e-2],\n",
    "    \"C\":      [0.1, 1, 10, 50, 100],\n",
    "    \"solver\": [\"newton-cg\"]\n",
    "}\n",
    "\n",
    "grid_search = GridSearchCV(estimator=clf,\n",
    "                           param_grid=params,\n",
    "                           scoring=\"f1\",\n",
    "                           n_jobs=8)"
   ]
  },
  {
   "cell_type": "code",
   "execution_count": null,
   "id": "84e1c39c",
   "metadata": {},
   "outputs": [],
   "source": [
    "cv = grid_search.fit(X_scaled, y)\n",
    "cv.best_params_"
   ]
  },
  {
   "cell_type": "code",
   "execution_count": null,
   "id": "d81ac442",
   "metadata": {},
   "outputs": [],
   "source": [
    "X_train, X_test, y_train, y_test = train_test_split(X_scaled, y, random_state=1, train_size=0.8)\n",
    "best_clf = LogisticRegression(C=50, solver=\"newton-cg\", tol=1e-6)\n",
    "best_clf.fit(X_train, y_train)\n",
    "pred = best_clf.predict(X_test)"
   ]
  },
  {
   "cell_type": "code",
   "execution_count": null,
   "id": "419af173",
   "metadata": {},
   "outputs": [],
   "source": [
    "f1_score(y_test, pred)"
   ]
  },
  {
   "cell_type": "code",
   "execution_count": null,
   "id": "62418d5d",
   "metadata": {},
   "outputs": [],
   "source": [
    "cm = pd.DataFrame(data=confusion_matrix(y_test, pred),\n",
    "                  columns=[\"Actual P\", \"Actual N\"], \n",
    "                  index=[\"Predict P\", \"Predict N\"])\n",
    "sns.heatmap(cm, annot=True, fmt='d', cmap='YlGnBu')\n",
    "pass"
   ]
  },
  {
   "cell_type": "code",
   "execution_count": null,
   "id": "f8668f8b",
   "metadata": {},
   "outputs": [],
   "source": []
  }
 ],
 "metadata": {
  "kernelspec": {
   "display_name": "Python 3 (ipykernel)",
   "language": "python",
   "name": "python3"
  },
  "language_info": {
   "codemirror_mode": {
    "name": "ipython",
    "version": 3
   },
   "file_extension": ".py",
   "mimetype": "text/x-python",
   "name": "python",
   "nbconvert_exporter": "python",
   "pygments_lexer": "ipython3",
   "version": "3.9.13"
  }
 },
 "nbformat": 4,
 "nbformat_minor": 5
}
