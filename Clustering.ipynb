{
 "cells": [
  {
   "cell_type": "code",
   "execution_count": null,
   "id": "e8afe685",
   "metadata": {},
   "outputs": [],
   "source": [
    "import numpy as np\n",
    "import pandas as pd\n",
    "import matplotlib.pyplot as plt\n",
    "from sklearn.preprocessing import StandardScaler\n",
    "from sklearn.decomposition import PCA\n",
    "from sklearn.manifold import TSNE\n",
    "from sklearn.cluster import KMeans, DBSCAN\n",
    "from sklearn.metrics import accuracy_score\n",
    "import matplotlib\n",
    "%matplotlib inline"
   ]
  },
  {
   "cell_type": "code",
   "execution_count": null,
   "id": "9dff8972",
   "metadata": {},
   "outputs": [],
   "source": [
    "r_df = pd.read_csv(\"winequality-red.csv\")\n",
    "w_df = pd.read_csv(\"winequality-white.csv\")\n",
    "r_df[\"wine\"] = np.zeros(r_df.shape[0]).astype(int)\n",
    "w_df[\"wine\"] = np.ones(w_df.shape[0]).astype(int)\n",
    "df = pd.concat([r_df, w_df])\n",
    "df.reset_index(drop=True)"
   ]
  },
  {
   "cell_type": "code",
   "execution_count": null,
   "id": "dd8a0821",
   "metadata": {},
   "outputs": [],
   "source": [
    "X = df.drop(\"wine\", axis=1)\n",
    "y = df[\"wine\"]"
   ]
  },
  {
   "cell_type": "code",
   "execution_count": null,
   "id": "4129d1e4",
   "metadata": {},
   "outputs": [],
   "source": [
    "scaler = StandardScaler()\n",
    "X_scaled = pd.DataFrame(scaler.fit_transform(X), columns=X.columns)"
   ]
  },
  {
   "cell_type": "code",
   "execution_count": null,
   "id": "c1a5e208",
   "metadata": {},
   "outputs": [],
   "source": [
    "pca = PCA(n_components=2)\n",
    "pca_repr = pca.fit_transform(X_scaled)\n",
    "plt.scatter(pca_repr[:, 0], pca_repr[:, 1], c=df[\"wine\"].map({0: \"red\", 1: \"gray\"}), alpha=0.5);"
   ]
  },
  {
   "cell_type": "code",
   "execution_count": null,
   "id": "ed6778eb",
   "metadata": {},
   "outputs": [],
   "source": [
    "tsne = TSNE(random_state=228)\n",
    "tsne_repr = tsne.fit_transform(X_scaled)\n",
    "plt.scatter(tsne_repr[:, 0], tsne_repr[:, 1], c=df[\"wine\"].map({0: \"red\", 1: \"gray\"}), alpha=0.5);"
   ]
  },
  {
   "cell_type": "code",
   "execution_count": null,
   "id": "df8416a6",
   "metadata": {},
   "outputs": [],
   "source": [
    "kmeans_clr = KMeans(n_clusters=2)\n",
    "kmeans_clr_c = kmeans_clr.fit_predict(X_scaled)"
   ]
  },
  {
   "cell_type": "code",
   "execution_count": null,
   "id": "68a67c26",
   "metadata": {},
   "outputs": [],
   "source": [
    "print(accuracy_score(y, kmeans_clr_c), accuracy_score(y, 1-kmeans_clr_c))"
   ]
  },
  {
   "cell_type": "code",
   "execution_count": null,
   "id": "58bc2e2e",
   "metadata": {},
   "outputs": [],
   "source": [
    "plt.scatter(\n",
    "    tsne_repr[:, 0],\n",
    "    tsne_repr[:, 1],\n",
    "    c=[\"orange\" if x == 0 else \"green\" if x == 1 else \"white\" for x in kmeans_clr_c],\n",
    "    alpha=0.5);"
   ]
  },
  {
   "cell_type": "code",
   "execution_count": null,
   "id": "525fd5bc",
   "metadata": {},
   "outputs": [],
   "source": [
    "dbscan_clr = DBSCAN(\n",
    "    eps=1.55,\n",
    "    min_samples=20,\n",
    "    leaf_size=100,\n",
    "    n_jobs=8)\n",
    "dbscan_clr_c = dbscan_clr.fit_predict(X_scaled)"
   ]
  },
  {
   "cell_type": "code",
   "execution_count": null,
   "id": "7018c967",
   "metadata": {},
   "outputs": [],
   "source": [
    "set(dbscan_clr_c)"
   ]
  },
  {
   "cell_type": "code",
   "execution_count": null,
   "id": "a0de3145",
   "metadata": {},
   "outputs": [],
   "source": [
    "plt.scatter(\n",
    "    [x for x,c in zip(tsne_repr[:, 0], dbscan_clr_c) if c != -1],\n",
    "    [x for x,c in zip(tsne_repr[:, 1], dbscan_clr_c) if c != -1],\n",
    "    c=[x for x in dbscan_clr_c if x != -1],\n",
    "    alpha=0.5);"
   ]
  },
  {
   "cell_type": "code",
   "execution_count": null,
   "id": "e8738fa8",
   "metadata": {},
   "outputs": [],
   "source": []
  }
 ],
 "metadata": {
  "kernelspec": {
   "display_name": "Python 3 (ipykernel)",
   "language": "python",
   "name": "python3"
  },
  "language_info": {
   "codemirror_mode": {
    "name": "ipython",
    "version": 3
   },
   "file_extension": ".py",
   "mimetype": "text/x-python",
   "name": "python",
   "nbconvert_exporter": "python",
   "pygments_lexer": "ipython3",
   "version": "3.9.13"
  }
 },
 "nbformat": 4,
 "nbformat_minor": 5
}
